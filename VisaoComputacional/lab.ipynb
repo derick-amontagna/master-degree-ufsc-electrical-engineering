{
 "cells": [
  {
   "cell_type": "code",
   "execution_count": 1,
   "metadata": {},
   "outputs": [
    {
     "name": "stdout",
     "output_type": "stream",
     "text": [
      "2022-11-27 18:14:55 | INFO     | load_data                 | ++++++++++++++++++++++++Loading MRIs and Masks++++++++++++++++++++++++\n"
     ]
    }
   ],
   "source": [
    "import common.load_data as ld\n",
    "\n",
    "mri , mask = ld.load_data('C:\\\\Users\\\\doxda\\\\OneDrive\\\\Documentos\\\\Repositorios\\\\master-degree-ufsc-electrical-engineering\\\\VisaoComputacional\\data\\\\lgg-mri-segmentation\\\\kaggle_3m')"
   ]
  },
  {
   "cell_type": "code",
   "execution_count": 2,
   "metadata": {},
   "outputs": [
    {
     "name": "stderr",
     "output_type": "stream",
     "text": [
      "100%|██████████| 3929/3929 [00:10<00:00, 383.14it/s]\n",
      "100%|██████████| 3929/3929 [00:09<00:00, 428.44it/s]\n"
     ]
    }
   ],
   "source": [
    "images = ld.read_images(mri, 'images')\n",
    "masks = ld.read_images(mask, 'masks')"
   ]
  },
  {
   "cell_type": "code",
   "execution_count": 3,
   "metadata": {},
   "outputs": [
    {
     "name": "stdout",
     "output_type": "stream",
     "text": [
      "Images (3929, 128, 128, 3)\n",
      "Masks (3929, 128, 128, 1)\n"
     ]
    }
   ],
   "source": [
    "print('Images', images.shape)\n",
    "print('Masks', masks.shape)"
   ]
  }
 ],
 "metadata": {
  "kernelspec": {
   "display_name": "Python 3.9.13 ('py39VC')",
   "language": "python",
   "name": "python3"
  },
  "language_info": {
   "codemirror_mode": {
    "name": "ipython",
    "version": 3
   },
   "file_extension": ".py",
   "mimetype": "text/x-python",
   "name": "python",
   "nbconvert_exporter": "python",
   "pygments_lexer": "ipython3",
   "version": "3.9.13"
  },
  "orig_nbformat": 4,
  "vscode": {
   "interpreter": {
    "hash": "5782bf6f78e619d50a913137e2fa5aaa4b5ff5e23c62ccfd1d521e73b14ff4d1"
   }
  }
 },
 "nbformat": 4,
 "nbformat_minor": 2
}
