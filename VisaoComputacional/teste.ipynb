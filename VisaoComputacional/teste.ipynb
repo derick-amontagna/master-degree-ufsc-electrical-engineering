{
 "cells": [
  {
   "cell_type": "code",
   "execution_count": 8,
   "metadata": {},
   "outputs": [],
   "source": [
    "import common.load_data as ld\n",
    "\n",
    "mri , mask = ld.load_data('C:\\\\Users\\\\doxda\\\\OneDrive\\\\Documentos\\\\Repositorios\\\\master-degree-ufsc-electrical-engineering\\\\VisaoComputacional\\data\\\\lgg-mri-segmentation\\\\kaggle_3m')"
   ]
  },
  {
   "cell_type": "code",
   "execution_count": null,
   "metadata": {},
   "outputs": [],
   "source": []
  }
 ],
 "metadata": {
  "kernelspec": {
   "display_name": "Python 3.9.13 ('py39VC')",
   "language": "python",
   "name": "python3"
  },
  "language_info": {
   "codemirror_mode": {
    "name": "ipython",
    "version": 3
   },
   "file_extension": ".py",
   "mimetype": "text/x-python",
   "name": "python",
   "nbconvert_exporter": "python",
   "pygments_lexer": "ipython3",
   "version": "3.9.13"
  },
  "orig_nbformat": 4,
  "vscode": {
   "interpreter": {
    "hash": "5782bf6f78e619d50a913137e2fa5aaa4b5ff5e23c62ccfd1d521e73b14ff4d1"
   }
  }
 },
 "nbformat": 4,
 "nbformat_minor": 2
}
