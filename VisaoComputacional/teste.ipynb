{
 "cells": [
  {
   "cell_type": "code",
   "execution_count": 14,
   "metadata": {},
   "outputs": [
    {
     "name": "stdout",
     "output_type": "stream",
     "text": [
      "['lgg-mri-segmentation.zip']\n"
     ]
    }
   ],
   "source": [
    "import os \n",
    "file_list = os.listdir('.\\\\data')\n",
    "file_zip = [x for x in file_list if x.endswith('.zip')]\n",
    "print(file_zip)"
   ]
  },
  {
   "cell_type": "code",
   "execution_count": null,
   "metadata": {},
   "outputs": [],
   "source": []
  }
 ],
 "metadata": {
  "kernelspec": {
   "display_name": "Python 3.9.13 ('py39VC')",
   "language": "python",
   "name": "python3"
  },
  "language_info": {
   "codemirror_mode": {
    "name": "ipython",
    "version": 3
   },
   "file_extension": ".py",
   "mimetype": "text/x-python",
   "name": "python",
   "nbconvert_exporter": "python",
   "pygments_lexer": "ipython3",
   "version": "3.9.13"
  },
  "orig_nbformat": 4,
  "vscode": {
   "interpreter": {
    "hash": "5782bf6f78e619d50a913137e2fa5aaa4b5ff5e23c62ccfd1d521e73b14ff4d1"
   }
  }
 },
 "nbformat": 4,
 "nbformat_minor": 2
}
