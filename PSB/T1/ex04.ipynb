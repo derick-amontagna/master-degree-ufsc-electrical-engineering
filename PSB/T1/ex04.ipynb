{
 "cells": [
  {
   "cell_type": "code",
   "execution_count": null,
   "metadata": {},
   "outputs": [],
   "source": []
  }
 ],
 "metadata": {
  "kernelspec": {
   "display_name": "Python 3.10.6 ('py310PSB')",
   "language": "python",
   "name": "python3"
  },
  "language_info": {
   "name": "python",
   "version": "3.10.6"
  },
  "orig_nbformat": 4,
  "vscode": {
   "interpreter": {
    "hash": "5179af515745ca9fdffac5d9d5d8a34bd9cb33d12b2b5119060d2f95bcbc6571"
   }
  }
 },
 "nbformat": 4,
 "nbformat_minor": 2
}
